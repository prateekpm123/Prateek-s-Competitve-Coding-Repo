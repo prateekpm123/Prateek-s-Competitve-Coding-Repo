{
 "cells": [
  {
   "cell_type": "code",
   "execution_count": 1,
   "metadata": {
    "tags": []
   },
   "outputs": [
    {
     "name": "stdout",
     "output_type": "stream",
     "text": [
      "hello\n"
     ]
    }
   ],
   "source": [
    "print(\"hello\")"
   ]
  },
  {
   "cell_type": "code",
   "execution_count": 2,
   "metadata": {
    "tags": []
   },
   "outputs": [
    {
     "name": "stdout",
     "output_type": "stream",
     "text": [
      "hello bro what's up \n",
      "0\n",
      "1\n",
      "2\n"
     ]
    }
   ],
   "source": [
    "print(\"hello bro what's up \")\n",
    "for i in range(3):\n",
    "    print(i)"
   ]
  },
  {
   "cell_type": "code",
   "execution_count": null,
   "metadata": {},
   "outputs": [],
   "source": []
  },
  {
   "cell_type": "code",
   "execution_count": 6,
   "metadata": {
    "tags": []
   },
   "outputs": [
    {
     "name": "stdout",
     "output_type": "stream",
     "text": [
      "220\n",
      "30\n",
      "20\n"
     ]
    }
   ],
   "source": [
    "# # Python3 code for Dynamic Programming \n",
    "# # based solution for 0-1 Knapsack problem \n",
    "\n",
    "# # Prints the items which are put in a \n",
    "# # knapsack of capacity W \n",
    "# def printknapSack(W, wt, val, n): \n",
    "# \tK = [[0 for w in range(W + 1)] \n",
    "# \t\t\tfor i in range(n + 1)] \n",
    "\t\t\t\n",
    "# \t# Build table K[][] in bottom \n",
    "# \t# up manner \n",
    "# \tfor i in range(n + 1): \n",
    "# \t\tfor w in range(W + 1): \n",
    "# \t\t\tif i == 0 or w == 0: \n",
    "# \t\t\t\tK[i][w] = 0\n",
    "# \t\t\telif wt[i - 1] <= w: \n",
    "# \t\t\t\tK[i][w] = max(val[i - 1] \n",
    "# \t\t\t\t+ K[i - 1][w - wt[i - 1]], \n",
    "# \t\t\t\t\t\t\tK[i - 1][w]) \n",
    "# \t\t\telse: \n",
    "# \t\t\t\tK[i][w] = K[i - 1][w] \n",
    "\n",
    "# \t# stores the result of Knapsack \n",
    "# \tres = K[n][W] \n",
    "# \tprint(res) \n",
    "\t\n",
    "# \tw = W \n",
    "# \tfor i in range(n, 0, -1): \n",
    "# \t\tif res <= 0: \n",
    "# \t\t\tbreak\n",
    "# \t\t# either the result comes from the \n",
    "# \t\t# top (K[i-1][w]) or from (val[i-1] \n",
    "# \t\t# + K[i-1] [w-wt[i-1]]) as in Knapsack \n",
    "# \t\t# table. If it comes from the latter \n",
    "# \t\t# one/ it means the item is included. \n",
    "# \t\tif res == K[i - 1][w]: \n",
    "# \t\t\tcontinue\n",
    "# \t\telse: \n",
    "\n",
    "# \t\t\t# This item is included. \n",
    "# \t\t\tprint(wt[i - 1]) \n",
    "\t\t\t\n",
    "# \t\t\t# Since this weight is included \n",
    "# \t\t\t# its value is deducted \n",
    "# \t\t\tres = res - val[i - 1] \n",
    "# \t\t\tw = w - wt[i - 1] \n",
    "\n",
    "# # Driver code \n",
    "# val = [ 60, 100, 120 ] \n",
    "# wt = [ 10, 20, 30 ] \n",
    "# W = 50\n",
    "# n = len(val) \n",
    "\t\n",
    "# printknapSack(W, wt, val, n) \n",
    "\n",
    "# # This code is contributed by Aryan Garg. \n"
   ]
  },
  {
   "cell_type": "code",
   "execution_count": 17,
   "metadata": {
    "tags": []
   },
   "outputs": [
    {
     "ename": "NameError",
     "evalue": "name 'k' is not defined",
     "output_type": "error",
     "traceback": [
      "\u001b[1;31m---------------------------------------------------------------------------\u001b[0m",
      "\u001b[1;31mNameError\u001b[0m                                 Traceback (most recent call last)",
      "\u001b[1;32m<ipython-input-17-c9a00f61c19b>\u001b[0m in \u001b[0;36m<module>\u001b[1;34m\u001b[0m\n\u001b[0;32m      5\u001b[0m \u001b[0mnoOfMachines\u001b[0m \u001b[1;33m=\u001b[0m \u001b[0mlen\u001b[0m\u001b[1;33m(\u001b[0m\u001b[0mval\u001b[0m\u001b[1;33m)\u001b[0m\u001b[1;33m\u001b[0m\u001b[1;33m\u001b[0m\u001b[0m\n\u001b[0;32m      6\u001b[0m \u001b[1;33m\u001b[0m\u001b[0m\n\u001b[1;32m----> 7\u001b[1;33m \u001b[0mprintknapSack\u001b[0m\u001b[1;33m(\u001b[0m\u001b[0mW\u001b[0m\u001b[1;33m,\u001b[0m \u001b[0mwt\u001b[0m\u001b[1;33m,\u001b[0m \u001b[0mval\u001b[0m\u001b[1;33m,\u001b[0m \u001b[0mn\u001b[0m\u001b[1;33m)\u001b[0m\u001b[1;33m\u001b[0m\u001b[1;33m\u001b[0m\u001b[0m\n\u001b[0m\u001b[0;32m      8\u001b[0m \u001b[1;33m\u001b[0m\u001b[0m\n\u001b[0;32m      9\u001b[0m \u001b[1;33m\u001b[0m\u001b[0m\n",
      "\u001b[1;32m<ipython-input-7-5d1777c2f5ee>\u001b[0m in \u001b[0;36mprintknapSack\u001b[1;34m(W, wt, val, n)\u001b[0m\n\u001b[0;32m     12\u001b[0m \t\t\tfor i in range(n + 1)] \n\u001b[0;32m     13\u001b[0m \u001b[1;33m\u001b[0m\u001b[0m\n\u001b[1;32m---> 14\u001b[1;33m     \u001b[0mprint\u001b[0m\u001b[1;33m(\u001b[0m\u001b[0mk\u001b[0m\u001b[1;33m)\u001b[0m\u001b[1;33m\u001b[0m\u001b[1;33m\u001b[0m\u001b[0m\n\u001b[0m",
      "\u001b[1;31mNameError\u001b[0m: name 'k' is not defined"
     ]
    }
   ],
   "source": [
    "# Driver code \n",
    "fuel = [ 20, 40, 30 ] \n",
    "excavation = [ 20, 30, 30 ] \n",
    "vol = 60\n",
    "noOfMachines = len(val) \n",
    "\t\n",
    "printknapSack(W, wt, val, n) \n",
    "\n",
    "\n",
    "def printknapSack(W, wt, val, n): \n",
    "    mostEffecient = [] \n",
    "    for i in range(len(fuel)):\n",
    "        print(i)"
   ]
  },
  {
   "cell_type": "code",
   "execution_count": 24,
   "metadata": {
    "tags": []
   },
   "outputs": [
    {
     "data": {
      "text/plain": "(1.0, 1)"
     },
     "execution_count": 24,
     "metadata": {},
     "output_type": "execute_result"
    }
   ],
   "source": [
    "def noClosestToOne(listOfNum):\n",
    "    minimum = float(\"inf\")\n",
    "    value_chosen = 1\n",
    "    for val in range(len(listOfNum)):\n",
    "        if abs(listOfNum[val] - value_chosen) < minimum:\n",
    "            final_value = listOfNum[val]\n",
    "            index = val\n",
    "            minimum = abs(listOfNum[val] - value_chosen)\n",
    "    return final_value,index\n",
    "\n",
    "noClosestToOne([0.75,1.0, 1.3333])"
   ]
  },
  {
   "cell_type": "code",
   "execution_count": 26,
   "metadata": {
    "tags": []
   },
   "outputs": [
    {
     "name": "stdout",
     "output_type": "stream",
     "text": [
      "inf\n"
     ]
    }
   ],
   "source": [
    "minimum = float(\"inf\")\n",
    "print(minimum)"
   ]
  },
  {
   "cell_type": "code",
   "execution_count": 32,
   "metadata": {
    "tags": []
   },
   "outputs": [
    {
     "name": "stdout",
     "output_type": "stream",
     "text": [
      "0.9999\n"
     ]
    }
   ],
   "source": [
    "setted_list = [1.232,1.0233,0.9999, 23.232, 9.343]\n",
    "value_chosen = 1\n",
    "least=max(setted_list)\n",
    "for i in setted_list:\n",
    "    if abs(i-value_chosen)<l:\n",
    "        l=abs(i-value_chosen)\n",
    "        final_value=i\n",
    " \n",
    "print(final_value)"
   ]
  },
  {
   "cell_type": "code",
   "execution_count": null,
   "metadata": {},
   "outputs": [],
   "source": [
    "/*void main() {\n",
    "\tList fuel = [['a',20], ['b',40], ['c',30]] ;\n",
    "  List excavation = [['a',20], ['b',30], ['c',50]];\n",
    "  int vol = 300;\n",
    "  int noOfMachines = excavation.length ;\n",
    "  List<dynamic> mostEffecient = [];\n",
    "  \n",
    "  for( int i=0; i < noOfMachines; i++ ){\n",
    "    List tempList = [excavation[i][0]];\n",
    "    double temp = excavation[i][1]/fuel[i][1];\n",
    "    tempList.insert(0,temp);\n",
    "    mostEffecient.insert(i,tempList);\n",
    "    //mostEffecient.sort();\n",
    "  }\n",
    "\n",
    "  print(\"Efficency of machines \"+mostEffecient.toString());\n",
    "\n",
    "  List testList = [1.232, 1.232343, 0.3434, 0.999 ];\n",
    "  noClosestToOne(testList);\n",
    "}\n",
    "\n",
    "void printValues() {\n",
    "  print(\"function working\"); \n",
    "}\n",
    "\n",
    "List noClosestToOne(List givenlist) {\n",
    "  print(\"closest to one is working\");\n",
    "  double minimum = 0.000000;\n",
    "  int value_chosen = 1;\n",
    "  double final_value;\n",
    "  int index;\n",
    "  List answer;\n",
    "  answer = max(givenlist);\n",
    " /* for( int i=0; i< givenlist.length; i++) {\n",
    "    if( (givenlist[i] - value_chosen).abs() <minimum) {\n",
    "      final_value = givenlist[i];\n",
    "      index = i;\n",
    "      minimum = (givenlist[i]-value_chosen).abs();\n",
    "    }\n",
    "    answer = [final_value, index];\n",
    "\n",
    "  }\n",
    "    \n",
    "  print(answer);\n",
    "}*/\n"
   ]
  },
  {
   "cell_type": "code",
   "execution_count": null,
   "metadata": {},
   "outputs": [],
   "source": [
    "void main() {\n",
    "  List list = [2,8,1,6]; // List should not be empty.\n",
    "  int test = list.reduce((curr, next) => curr > next? curr: next); // 8 --> Max\n",
    "  print(test);\n",
    "}"
   ]
  },
  {
   "cell_type": "code",
   "execution_count": 2,
   "metadata": {
    "tags": []
   },
   "outputs": [
    {
     "name": "stdout",
     "output_type": "stream",
     "text": [
      "k;jasdjsal;j\n",
      "8\n"
     ]
    }
   ],
   "source": [
    "print(\"k;jasdjsal;j\")\n",
    "sum = 0\n",
    "a = 3\n",
    "b = 5\n",
    "sum = a + b\n",
    "print(sum)"
   ]
  },
  {
   "cell_type": "code",
   "execution_count": 1,
   "metadata": {
    "tags": []
   },
   "outputs": [
    {
     "name": "stdout",
     "output_type": "stream",
     "text": [
      "The optimal value is : 12\n"
     ]
    }
   ],
   "source": [
    "# A simple Python3 program to find \n",
    "# maximum score that \n",
    "# maximizing player can get \n",
    "import math \n",
    "\n",
    "def minimax (curDepth, nodeIndex, \n",
    "\t\t\tmaxTurn, scores, \n",
    "\t\t\ttargetDepth): \n",
    "\n",
    "\t# base case : targetDepth reached \n",
    "\tif (curDepth == targetDepth): \n",
    "\t\treturn scores[nodeIndex] \n",
    "\t\n",
    "\tif (maxTurn): \n",
    "\t\treturn max(minimax(curDepth + 1, nodeIndex * 2, \n",
    "\t\t\t\t\tFalse, scores, targetDepth), \n",
    "\t\t\t\tminimax(curDepth + 1, nodeIndex * 2 + 1, \n",
    "\t\t\t\t\tFalse, scores, targetDepth)) \n",
    "\t\n",
    "\telse: \n",
    "\t\treturn min(minimax(curDepth + 1, nodeIndex * 2, \n",
    "\t\t\t\t\tTrue, scores, targetDepth), \n",
    "\t\t\t\tminimax(curDepth + 1, nodeIndex * 2 + 1, \n",
    "\t\t\t\t\tTrue, scores, targetDepth)) \n",
    "\t\n",
    "# Driver code \n",
    "scores = [3, 5, 2, 9, 12, 5, 23, 23] \n",
    "\n",
    "treeDepth = math.log(len(scores), 2) \n",
    "\n",
    "print(\"The optimal value is : \", end = \"\") \n",
    "print(minimax(0, 0, True, scores, treeDepth)) \n",
    "\n",
    "# This code is contributed \n",
    "# by rootshadow \n"
   ]
  },
  {
   "cell_type": "code",
   "execution_count": 2,
   "metadata": {
    "tags": []
   },
   "outputs": [
    {
     "name": "stdout",
     "output_type": "stream",
     "text": [
      "[2, 3, 4, 45]\n"
     ]
    }
   ],
   "source": [
    "stack = [2,3, 4,45,465 ]\n",
    "stack.pop()\n",
    "print(stack)"
   ]
  },
  {
   "cell_type": "code",
   "execution_count": 24,
   "metadata": {
    "tags": []
   },
   "outputs": [
    {
     "data": {
      "text/plain": "2"
     },
     "execution_count": 24,
     "metadata": {},
     "output_type": "execute_result"
    }
   ],
   "source": [
    "exp = \"[(a+b)+{(c+d)*(e/f)}]\"\n",
    "brackets = [['(', ')'],['[',']'],['{','}']]\n",
    "\n",
    "val = '}'\n",
    "i = 0\n",
    "def closingBracket(value):\n",
    "    for i in range(len(brackets)):\n",
    "        if(value == brackets[i][1]):\n",
    "            # typebracket = brackets[i][1]\n",
    "            return i\n",
    "        \n",
    "\n",
    "closingBracket(val)"
   ]
  },
  {
   "cell_type": "code",
   "execution_count": 32,
   "metadata": {
    "tags": []
   },
   "outputs": [
    {
     "name": "stdout",
     "output_type": "stream",
     "text": [
      "true\n"
     ]
    }
   ],
   "source": [
    "# stack = []\n",
    "# exp = \"[(a + b) + {(c + d) * (e / f)}]\"\n",
    "# def peek(stack):\n",
    "#     stackLen = len(stack)\n",
    "#     stackTop = stack[stackLen-1]\n",
    "#     return stackTop\n",
    "\n",
    "# def balancedBrackets(exp):\n",
    "#     for i in range(len(exp)):\n",
    "#         ch = exp[i]\n",
    "#         if(ch =='(' or ch =='{' or ch=='['):\n",
    "#             stack.append(ch)\n",
    "#         elif(ch == ')'):\n",
    "#             # Something here\n",
    "#             if (len(stack) == 0 or peek(stack) != '('):\n",
    "#                 print(\"false\");\n",
    "#                 return\n",
    "#             else:\n",
    "#                 stack.pop();\n",
    "#         elif(ch == '}'):\n",
    "#             # Something here\n",
    "#             if (len(stack) == 0 or peek(stack) != '{'):\n",
    "#                 print(\"false\");\n",
    "#                 return\n",
    "#             else:\n",
    "#                 stack.pop();\n",
    "#         elif(ch == ']'):\n",
    "#             # Something here\n",
    "#             if (len(stack) == 0 or peek(stack) != '['):\n",
    "#                 print(\"false\");\n",
    "#                 return\n",
    "#             else:\n",
    "#                 stack.pop();\n",
    "#     if(len(stack) == 0):\n",
    "#         print(\"true\")\n",
    "#     else:\n",
    "#         print(\"false\")\n",
    "\n",
    "# balancedBrackets(exp)\n"
   ]
  },
  {
   "cell_type": "code",
   "execution_count": null,
   "metadata": {},
   "outputs": [],
   "source": [
    "# stack = []\n",
    "# exp = \"[(a + b) + {(c + d) * (e / f)}]\"\n",
    "# def peek(stack):\n",
    "#     stackLen = len(stack)\n",
    "#     stackTop = stack[stackLen-1]\n",
    "#     return stackTop\n",
    "\n",
    "# def balancedBrackets(exp):\n",
    "#     for i in range(len(exp)):\n",
    "#         ch = exp[i]\n",
    "# …                return\n",
    "#             else:\n",
    "#                 stack.pop();\n",
    "#     if(len(stack) == 0):\n",
    "#         print(\"true\")\n",
    "#     else:\n",
    "#         print(\"false\")\n",
    "\n",
    "# balancedBrackets(exp)\n"
   ]
  },
  {
   "cell_type": "code",
   "execution_count": 55,
   "metadata": {
    "tags": []
   },
   "outputs": [
    {
     "name": "stdout",
     "output_type": "stream",
     "text": [
      "5\n",
      "9\n",
      "12\n",
      "12\n",
      "12\n",
      "-1\n",
      "8\n",
      "-1\n",
      "-1\n"
     ]
    }
   ],
   "source": [
    "# array = [2, 5, 9, 3, 1, 12, 6, 8, 7]\n",
    "# # array = []\n",
    "# # numOfElements = int(input())\n",
    "# # for i in range(numOfElements):\n",
    "# #     num = int(input())                                                                                                                                                                                                                                                                                               \n",
    "# #     array.append(num)\n",
    "# newarr = []\n",
    "# count = 0\n",
    "# def greaterVal(val, count):\n",
    "#     for j in array[count:]:\n",
    "#         if(val<j):\n",
    "#             return j      \n",
    "#         # count+=1\n",
    "\n",
    "\n",
    "# def grtValToTheNext(array):      \n",
    "#     for i in array:\n",
    "#         val = i\n",
    "#         grt = greaterVal(val, array.index(i))\n",
    "#         if(grt == None):\n",
    "#             newarr.append(-1)\n",
    "#             print(-1)\n",
    "#         else:\n",
    "#             newarr.append(grt)\n",
    "#             print(grt)\n",
    "#     # print(newarr)\n",
    "\n",
    "# grtValToTheNext(array)"
   ]
  },
  {
   "cell_type": "code",
   "execution_count": 66,
   "metadata": {},
   "outputs": [
    {
     "ename": "IndexError",
     "evalue": "list index out of range",
     "output_type": "error",
     "traceback": [
      "\u001b[1;31m---------------------------------------------------------------------------\u001b[0m",
      "\u001b[1;31mIndexError\u001b[0m                                Traceback (most recent call last)",
      "\u001b[1;32m<ipython-input-66-3fb9bea5756b>\u001b[0m in \u001b[0;36m<module>\u001b[1;34m\u001b[0m\n\u001b[0;32m     28\u001b[0m     \u001b[0mprint\u001b[0m\u001b[1;33m(\u001b[0m\u001b[0moutputarray\u001b[0m\u001b[1;33m)\u001b[0m\u001b[1;33m\u001b[0m\u001b[1;33m\u001b[0m\u001b[0m\n\u001b[0;32m     29\u001b[0m \u001b[1;33m\u001b[0m\u001b[0m\n\u001b[1;32m---> 30\u001b[1;33m \u001b[0mgreater\u001b[0m\u001b[1;33m(\u001b[0m\u001b[0mremp\u001b[0m\u001b[1;33m)\u001b[0m\u001b[1;33m\u001b[0m\u001b[1;33m\u001b[0m\u001b[0m\n\u001b[0m",
      "\u001b[1;32m<ipython-input-66-3fb9bea5756b>\u001b[0m in \u001b[0;36mgreater\u001b[1;34m(remp)\u001b[0m\n\u001b[0;32m     12\u001b[0m                 \u001b[1;31m# value = remp[i]\u001b[0m\u001b[1;33m\u001b[0m\u001b[1;33m\u001b[0m\u001b[1;33m\u001b[0m\u001b[0m\n\u001b[0;32m     13\u001b[0m                 \u001b[1;31m# val = remp[remplen-2]\u001b[0m\u001b[1;33m\u001b[0m\u001b[1;33m\u001b[0m\u001b[1;33m\u001b[0m\u001b[0m\n\u001b[1;32m---> 14\u001b[1;33m                 \u001b[1;32mif\u001b[0m\u001b[1;33m(\u001b[0m\u001b[0mremp\u001b[0m\u001b[1;33m[\u001b[0m\u001b[0mlen\u001b[0m\u001b[1;33m(\u001b[0m\u001b[0mremp\u001b[0m\u001b[1;33m)\u001b[0m\u001b[1;33m]\u001b[0m \u001b[1;33m!=\u001b[0m \u001b[0mremp\u001b[0m\u001b[1;33m[\u001b[0m\u001b[0mi\u001b[0m\u001b[1;33m]\u001b[0m\u001b[1;33m)\u001b[0m\u001b[1;33m:\u001b[0m\u001b[1;33m\u001b[0m\u001b[1;33m\u001b[0m\u001b[0m\n\u001b[0m\u001b[0;32m     15\u001b[0m                     \u001b[1;32mif\u001b[0m\u001b[1;33m(\u001b[0m\u001b[0mremp\u001b[0m\u001b[1;33m[\u001b[0m\u001b[0mi\u001b[0m\u001b[1;33m+\u001b[0m\u001b[1;36m1\u001b[0m\u001b[1;33m]\u001b[0m \u001b[1;33m>\u001b[0m \u001b[0mnewarray\u001b[0m\u001b[1;33m[\u001b[0m\u001b[0mlen\u001b[0m\u001b[1;33m(\u001b[0m\u001b[0mnewarray\u001b[0m\u001b[1;33m)\u001b[0m\u001b[1;33m-\u001b[0m\u001b[1;36m1\u001b[0m\u001b[1;33m]\u001b[0m\u001b[1;33m)\u001b[0m\u001b[1;33m:\u001b[0m\u001b[1;33m\u001b[0m\u001b[1;33m\u001b[0m\u001b[0m\n\u001b[0;32m     16\u001b[0m                         \u001b[1;32mbreak\u001b[0m\u001b[1;33m\u001b[0m\u001b[1;33m\u001b[0m\u001b[0m\n",
      "\u001b[1;31mIndexError\u001b[0m: list index out of range"
     ]
    }
   ],
   "source": [
    "# remp = [2, 5,5, 9, 3, 1, 12, 6, 8, 7]\n",
    "# newarray = []\n",
    "# outputarray = []\n",
    "# def greater(remp):\n",
    "#     for i in range(len(remp)):\n",
    "#         if(remp[i] >= remp[i+1]):\n",
    "#             newarray.append(remp)\n",
    "#         else:\n",
    "#             while(len(newarray) !=0 ):\n",
    "#                 # newarray.append(remp[i+1])\n",
    "#                 # remplen = len(remp)\n",
    "#                 # value = remp[i]\n",
    "#                 # val = remp[remplen-2]\n",
    "#                 if(remp[len(remp)] != remp[i]):\n",
    "#                     if(remp[i+1] > newarray[len(newarray)-1]):\n",
    "#                         break\n",
    "#                     else:\n",
    "#                         value = newarray.pop()\n",
    "#                         outputarray.append(value)\n",
    "#                 else:\n",
    "#                     if(remp[i] < newarray[len(newarray)-1]):\n",
    "#                         value = newarray.pop()\n",
    "#                         outputarray.append(value)\n",
    "#                     else:\n",
    "#                         while(len(newarray) !=0):\n",
    "#                             newarray.pop()\n",
    "#                             outputarray.append(-1)\n",
    "#     print(outputarray)\n",
    "\n",
    "# greater(remp)"
   ]
  },
  {
   "cell_type": "code",
   "execution_count": 61,
   "metadata": {
    "tags": []
   },
   "outputs": [
    {
     "name": "stdout",
     "output_type": "stream",
     "text": [
      "64\n"
     ]
    }
   ],
   "source": [
    "lsit = [ 1,34,45,64]\n",
    "valu = lsit.pop()\n",
    "print(valu)"
   ]
  },
  {
   "cell_type": "code",
   "execution_count": 63,
   "metadata": {
    "tags": []
   },
   "outputs": [
    {
     "name": "stdout",
     "output_type": "stream",
     "text": [
      "Current Letter : P\n",
      "Current Letter : y\n",
      "Current Letter : t\n"
     ]
    }
   ],
   "source": [
    "for letter in 'Python':     # First Example\n",
    "   if letter == 'h':\n",
    "      break\n",
    "   print('Current Letter :', letter)"
   ]
  },
  {
   "cell_type": "code",
   "execution_count": 96,
   "metadata": {
    "tags": []
   },
   "outputs": [
    {
     "name": "stdout",
     "output_type": "stream",
     "text": [
      "val i  2\n",
      "3\n",
      "1\n",
      "12\n",
      "6\n",
      "8\n",
      "7\n"
     ]
    }
   ],
   "source": [
    "array = [2,5,9,3,1,12,6,8,7]\n",
    "stack = []\n",
    "outputArr = []\n",
    "\n",
    "stack.append(array[0])\n",
    "val = stack[len(stack)-1]\n",
    "print(\"val i \",val)\n",
    "for i in range(3, len(array),1):\n",
    "    print(array[i])"
   ]
  },
  {
   "cell_type": "code",
   "execution_count": 91,
   "metadata": {
    "tags": []
   },
   "outputs": [
    {
     "name": "stdout",
     "output_type": "stream",
     "text": [
      "23\n",
      "5\n"
     ]
    }
   ],
   "source": [
    "array = [2, 5, 5, 9, 3, 1, 12, 6, 8, 7]\n",
    "stack = [23,34,456,34,23]\n",
    "outputarray = []\n",
    "# outputarray.insert(len(array)-1, -1)\n",
    "# stack.append(array[len(array)-1])\n",
    "# print(stack[len(stack)-1])\n",
    "print(stack[len(stack)-1])\n",
    "print(len(stack))\n",
    "# for i in range(len(array)-1, -1, -1): # 3 params of range are : START, STOP, STEP \n",
    "#     print(array[i])\n",
    "    # while(len(stack) >0 and array[i] >= stack[len(stack)-1]   ):\n",
    "    #     stack.pop()\n",
    "    # if( len(stack) > 0 ):\n",
    "    #     outputarray.append(stack[len(stack)-1])\n",
    "    # else:\n",
    "    #     outputarray.append(-1)\n",
    "    # stack.append(i)\n",
    "\n",
    "# print(outputarray)"
   ]
  },
  {
   "cell_type": "code",
   "execution_count": 2,
   "metadata": {
    "tags": []
   },
   "outputs": [
    {
     "name": "stdout",
     "output_type": "stream",
     "text": [
      "[1, 2, 4, 5]\n"
     ]
    }
   ],
   "source": [
    "def removeDuplicates(x):\n",
    "  return list(dict.fromkeys(x))\n",
    "\n",
    "mylist = removeDuplicates([1,2,4,4,5,5])\n",
    "\n",
    "print(mylist)"
   ]
  },
  {
   "cell_type": "code",
   "execution_count": 19,
   "metadata": {
    "tags": []
   },
   "outputs": [
    {
     "name": "stdout",
     "output_type": "stream",
     "text": [
      "present 3\n",
      "present 3\n",
      "present 3\n",
      "present 1\n",
      "present 1\n",
      "present 2\n",
      "present 1\n",
      "present 1\n",
      "present 1\n",
      "present 2\n"
     ]
    }
   ],
   "source": [
    "streaming = [1,1,1,3,45,23,2312,234,34,23]\n",
    "\n",
    "for i in streaming:\n",
    "    if(streaming.count(i)>0):\n",
    "        print('present', streaming.count(i))\n",
    "    else:\n",
    "        print('absent', streaming.count(i))"
   ]
  },
  {
   "cell_type": "code",
   "execution_count": 4,
   "metadata": {
    "tags": []
   },
   "outputs": [
    {
     "ename": "TabError",
     "evalue": "inconsistent use of tabs and spaces in indentation (<ipython-input-4-c90fb23b3fd4>, line 52)",
     "output_type": "error",
     "traceback": [
      "\u001b[1;36m  File \u001b[1;32m\"<ipython-input-4-c90fb23b3fd4>\"\u001b[1;36m, line \u001b[1;32m52\u001b[0m\n\u001b[1;33m    elif(curr.next == None):\u001b[0m\n\u001b[1;37m                            ^\u001b[0m\n\u001b[1;31mTabError\u001b[0m\u001b[1;31m:\u001b[0m inconsistent use of tabs and spaces in indentation\n"
     ]
    }
   ],
   "source": [
    "class node:\n",
    "    def __init__(self, data=None):\n",
    "        self.data = data\n",
    "        self.next = None\n",
    "\n",
    "class linked_list:\n",
    "    def __init__(self):\n",
    "        self.head = node()       # this is the head of the linked_list\n",
    "        self.size = 0\n",
    "\n",
    "    def append(self, data):\n",
    "        new_node = node(data)\n",
    "        curr = self.head         # this gives you the starting point of a linked list\n",
    "        while(curr.next != None):\n",
    "            curr = curr.next     # \" curr.next \" this points to the next node in the linked list start from the head   \n",
    "        curr.next = new_node     # (in short new_node is getting connected to the linked_list here ) Here the address of the new node (which is a node object) is going in the curr node's next variable\n",
    "        self.size +=1 \n",
    "        print(self.size)\n",
    "\n",
    "\n",
    "    def length(self):\n",
    "        return(self.size)\n",
    "\n",
    "    # def erase(self,index):\n",
    "\t# \tif index>=self.length() or index<0: # added 'index<0' post-video\n",
    "\t# \t\tprint(\"ERROR: 'Erase' Index out of range!\")\n",
    "\t# \t\treturn \n",
    "\t# \tcur_idx=0\n",
    "\t# \tcur_node=self.head\n",
    "\t# \twhile True:\n",
    "\t# \t\tlast_node=cur_node\n",
    "\t# \t\tcur_node=cur_node.next\n",
    "\t# \t\tif cur_idx==index:\n",
    "\t# \t\t\tlast_node.next=cur_node.next\n",
    "\t# \t\t\treturn\n",
    "\t# \t\tcur_idx+=1\n",
    "\n",
    "    # ERRORS OCCURENCE IN THE FUNCTION\n",
    "    # If the data is not present in the linked list then, python will give and error\n",
    "    # \"  'NoneType' object has no attribute 'data' \"\n",
    "    def remove(self, data):\n",
    "        if(data == None):\n",
    "            print(\"Please enter and Element to be removed\")\n",
    "        curr = self.head\n",
    "        while(curr.data != data):\n",
    "            last_node = curr\n",
    "            curr = curr.next\n",
    "            if(curr.data == data):              # ERROR: This line will give the ERROR mentioned above\n",
    "                last_node.next = curr.next\n",
    "                self.size -= 1\n",
    "                return\n",
    "\t\t\telif(curr.next == None):\n",
    "\t\t\t\tprint(\"Element not found\")\n",
    "        # if(curr.next == None):\n",
    "        #     print(\"Element not found !\")\n",
    "    \n",
    "\t# # Prints out the linked list in traditional Python list format. \n",
    "    def display(self):\n",
    "        curr = self.head\n",
    "        elements = []\n",
    "        while(curr.next != None):\n",
    "            curr = curr.next\n",
    "            temp = curr.data\n",
    "            elements.append(temp)\n",
    "        print(elements)\n",
    "        \n",
    "    # def length(self):\n",
    "    #     cur = self.head\n",
    "    #     total = 0\n",
    "    #     while(cur.next != None ):\n",
    "    #         total += 1\n",
    "    #         cur = cur.next\n",
    "    #     return(total)\n",
    "\n",
    "    # def display(self):\n",
    "    #     elems = []\n",
    "    #     cur_node = self.head\n",
    "    #     while( cur_node.next != None):\n",
    "    #         cur_node = cur_node.next\n",
    "    #         elems.append(cur_node.data)\n",
    "    #     print(elems)\n",
    "\n",
    "    # def addLast(self):\n",
    "        \n",
    "    # # Returns the length (integer) of the linked list.\n",
    "\t# def length(self):\n",
    "    #     cur = self.head\n",
    "    #     total = 0\n",
    "    #     while(cur.next!=None):\n",
    "    #         total += 1\n",
    "    #         cur = cur.next\n",
    "    #     return(total) \n",
    "\n",
    "\t# # Prints out the linked list in traditional Python list format. \n",
    "    # def display(self):\n",
    "    #     elems=[]\n",
    "    #     cur_node=self.head\n",
    "    #     while cur_node.next!=None:\n",
    "    #         cur_node=cur_node.next\n",
    "    #         elems.append(cur_node.data)\n",
    "    #     print(elems)\n",
    "\n",
    "\t# # Returns the value of the node at 'index'. \n",
    "\t# def get(self,index):\n",
    "\t# \tif index>=self.length() or index<0: # added 'index<0' post-video\n",
    "\t# \t\tprint(\"ERROR: 'Get' Index out of range!\")\n",
    "\t# \t\treturn None\n",
    "\t# \tcur_idx=0\n",
    "\t# \tcur_node=self.head\n",
    "\t# \twhile True:\n",
    "\t# \t\tcur_node=cur_node.next\n",
    "\t# \t\tif cur_idx==index: return cur_node.data\n",
    "\t# \t\tcur_idx+=1\n",
    "\n",
    "\t# # Deletes the node at index 'index'.\n",
    "\t# def erase(self,index):\n",
    "\t# \tif index>=self.length() or index<0: # added 'index<0' post-video\n",
    "\t# \t\tprint(\"ERROR: 'Erase' Index out of range!\")\n",
    "\t# \t\treturn \n",
    "\t# \tcur_idx=0\n",
    "\t# \tcur_node=self.head\n",
    "\t# \twhile True:\n",
    "\t# \t\tlast_node=cur_node\n",
    "\t# \t\tcur_node=cur_node.next\n",
    "\t# \t\tif cur_idx==index:\n",
    "\t# \t\t\tlast_node.next=cur_node.next\n",
    "\t# \t\t\treturn\n",
    "\t# \t\tcur_idx+=1\n",
    "\n",
    "\t# # Allows for bracket operator syntax (i.e. a[0] to return first item).\n",
    "\t# def __getitem__(self,index):\n",
    "\t# \treturn self.get(index)\n",
    "\n",
    "\n",
    "\t# #######################################################\n",
    "\t# # Functions added after video tutorial\n",
    "\n",
    "\t# # Inserts a new node at index 'index' containing data 'data'.\n",
    "\t# # Indices begin at 0. If the provided index is greater than or \n",
    "\t# # equal to the length of the linked list the 'data' will be appended.\n",
    "\t# def insert(self,index,data):\n",
    "\t# \tif index>=self.length() or index<0:\n",
    "\t# \t\treturn self.append(data)\n",
    "\t# \tcur_node=self.head\n",
    "\t# \tprior_node=self.head\n",
    "\t# \tcur_idx=0\n",
    "\t# \twhile True:\n",
    "\t# \t\tcur_node=cur_node.next\n",
    "\t# \t\tif cur_idx==index: \n",
    "\t# \t\t\tnew_node=node(data)\n",
    "\t# \t\t\tprior_node.next=new_node\n",
    "\t# \t\t\tnew_node.next=cur_node\n",
    "\t# \t\t\treturn\n",
    "\t# \t\tprior_node=cur_node\n",
    "\t# \t\tcur_idx+=1\n",
    "\n",
    "\t# # Inserts the node 'node' at index 'index'. Indices begin at 0.\n",
    "\t# # If the 'index' is greater than or equal to the length of the linked \n",
    "\t# # list the 'node' will be appended.\n",
    "\t# def insert_node(self,index,node):\n",
    "\t# \tif index<0:\n",
    "\t# \t\tprint(\"ERROR: 'Erase' Index cannot be negative!\")\n",
    "\t# \t\treturn\n",
    "\t# \tif index>=self.length(): # append the node\n",
    "\t# \t\tcur_node=self.head\n",
    "\t# \t\twhile cur_node.next!=None:\n",
    "\t# \t\t\tcur_node=cur_node.next\n",
    "\t# \t\tcur_node.next=node\n",
    "\t# \t\treturn\n",
    "\t# \tcur_node=self.head\n",
    "\t# \tprior_node=self.head\n",
    "\t# \tcur_idx=0\n",
    "\t# \twhile True:\n",
    "\t# \t\tcur_node=cur_node.next\n",
    "\t# \t\tif cur_idx==index: \n",
    "\t# \t\t\tprior_node.next=node\n",
    "\t# \t\t\treturn\n",
    "\t# \t\tprior_node=cur_node\n",
    "\t# \t\tcur_idx+=1\n",
    "\n",
    "\t# # Sets the data at index 'index' equal to 'data'.\n",
    "\t# # Indices begin at 0. If the 'index' is greater than or equal \n",
    "\t# # to the length of the linked list a warning will be printed \n",
    "\t# # to the user.\n",
    "\t# def set(self,index,data):\n",
    "\t# \tif index>=self.length() or index<0:\n",
    "\t# \t\tprint(\"ERROR: 'Set' Index out of range!\")\n",
    "\t# \t\treturn\n",
    "\t# \tcur_node=self.head\n",
    "\t# \tcur_idx=0\n",
    "\t# \twhile True:\n",
    "\t# \t\tcur_node=cur_node.next\n",
    "\t# \t\tif cur_idx==index: \n",
    "\t# \t\t\tcur_node.data=data\n",
    "\t# \t\t\treturn\n",
    "\t# \t\tcur_idx+=1\n",
    "\n",
    "\n",
    "test = linked_list()\n",
    "test.append(1)\n",
    "test.append(2)\n",
    "test.append(3)\n",
    "test.append(4)\n",
    "test.append(5)\n",
    "test.display()\n",
    "test.remove(4)\n",
    "test.display()\n",
    "test.remove(2)\n",
    "test.display()\n",
    "val = test.length()\n",
    "print(\"length of the linked list is \",val)"
   ]
  },
  {
   "cell_type": "code",
   "execution_count": null,
   "metadata": {},
   "outputs": [],
   "source": [
    "# A TEMP SPACE FOR THE NUMBER GREATER TO THE RIGHT\n",
    "\n",
    "array = [5,5,3, 8, -2,7]\n",
    "stack = []\n",
    "outputarray = []\n",
    "outputarray.insert(len(array)-1, -1)\n",
    "stack.append(array[len(array)-1])\n",
    "for i in range(len(array)-2, -1, -1): # 3 params of range are : START, STOP, STEP \n",
    "    print(\"array values are\", array[i])\n",
    "\n",
    "    while( len(stack)>0 and array[i] >= stack[len(stack)-1]   ):\n",
    "        # print(stack[len(stack)-1])\n",
    "        temp = stack.pop()\n",
    "        # print(\"the element which is popping is \",temp)\n",
    "    if( len(stack) > 0 ):\n",
    "        outputarray.insert(i,stack[len(stack)-1])\n",
    "    else:\n",
    "        outputarray.insert(i, -1)\n",
    "        # print(\"output array contains \",outputarray )\n",
    "    stack.append(array[i])\n",
    "\n",
    "print(outputarray)"
   ]
  },
  {
   "cell_type": "code",
   "execution_count": 4,
   "metadata": {
    "tags": []
   },
   "outputs": [
    {
     "name": "stdout",
     "output_type": "stream",
     "text": [
      "7\n",
      "6\n",
      "5\n",
      "4\n",
      "3\n",
      "2\n",
      "1\n",
      "0\n",
      "-1\n",
      "-2\n"
     ]
    }
   ],
   "source": [
    "\n",
    "i = 0\n",
    "while(i !=0):\n",
    "    i -=2\n",
    "    print(i)"
   ]
  },
  {
   "cell_type": "code",
   "execution_count": null,
   "metadata": {},
   "outputs": [],
   "source": [
    "list1  = [1, 2, 3]\n",
    "list1.append([4, 5, 6])\n",
    "print(len(list1))"
   ]
  },
  {
   "cell_type": "code",
   "execution_count": null,
   "metadata": {},
   "outputs": [],
   "source": [
    "# here split takes values from the input as string and converts them into \n",
    "# list of string, now that list acts as parameter for map and int acts as a typecasting function\n",
    "# then we get a object of a map, in order to make in into a list we typecast it with list\n",
    "# x = list(map(int, input().split()))    \n",
    "\n",
    "# print(\"x is \",x)\n",
    "\n",
    "streaming = ['netflix', 'hulu', 'disney+', 'appletv+']\n",
    "\n",
    "# value = streaming.index('netflsdix')\n",
    "if('netflix' in streaming):\n",
    "    print('found at index')\n",
    "else: \n",
    "    print('not found')\n",
    "# print(value)\n",
    "\n",
    "# # x = input().strip()\n",
    "\n",
    "# print(\"of all fruits\", x, \"is my favorite\")"
   ]
  },
  {
   "cell_type": "code",
   "execution_count": 1,
   "metadata": {},
   "outputs": [
    {
     "name": "stdout",
     "output_type": "stream",
     "text": [
      "defaultdict(<class 'int'>, {1: 2, 2: 3, 3: 1, 4: 2})\n"
     ]
    }
   ],
   "source": [
    "from collections import defaultdict\n",
    "\n",
    "d = defaultdict(int) \n",
    "   \n",
    "L = [1, 2, 3, 4, 2, 4, 1, 2] \n",
    "   \n",
    "# Iterate through the list \n",
    "# for keeping the count \n",
    "for i in L: \n",
    "       \n",
    "    # The default value is 0 \n",
    "    # so there is no need to  \n",
    "    # enter the key first \n",
    "    d[i] += 1\n",
    "       \n",
    "print(d) \n"
   ]
  },
  {
   "cell_type": "code",
   "execution_count": 3,
   "metadata": {},
   "outputs": [
    {
     "name": "stdout",
     "output_type": "stream",
     "text": [
      "1\n",
      "2\n",
      "False\n"
     ]
    }
   ],
   "source": [
    "from collections import defaultdict \n",
    "  \n",
    "      \n",
    "# Defining the dict and passing  \n",
    "# lambda as default_factory argument \n",
    "d = defaultdict(lambda: False) \n",
    "d[\"a\"] = 1\n",
    "d[\"b\"] = 2\n",
    "  \n",
    "print(d[\"a\"]) \n",
    "print(d[\"b\"]) \n",
    "print(d[\"c\"]) "
   ]
  },
  {
   "cell_type": "code",
   "execution_count": 23,
   "metadata": {},
   "outputs": [
    {
     "name": "stdout",
     "output_type": "stream",
     "text": [
      "[4, 6]\n"
     ]
    }
   ],
   "source": [
    "test = [ 'asdfa', 1 , 2342, 'meow meow meow', 22222, 'meow meow meow', 'aabbaa']\n",
    "def finding(Nemo, Sea):\n",
    "    counter = 0\n",
    "    temp = []\n",
    "    for i in range(len(Sea)):\n",
    "        if(Sea[i] == Nemo):\n",
    "            new = i+1\n",
    "            temp.append(new)\n",
    "            counter +=1\n",
    "    if(counter ==0):\n",
    "        return False\n",
    "    else:\n",
    "        return temp\n",
    "index = finding('meow meow meow', test)\n",
    "print(index)"
   ]
  },
  {
   "cell_type": "code",
   "execution_count": 32,
   "metadata": {},
   "outputs": [
    {
     "name": "stdout",
     "output_type": "stream",
     "text": [
      "[1, 23, 4, 4, 5, 534, 3, 23, 3, 42756, 767, 87, 87]\n"
     ]
    }
   ],
   "source": [
    "from collections import defaultdict\n",
    "otherdict=dict((['a',1],['b',2],['c',3]))\n",
    "otherdict['a'] = [1,23,4,4,5,534,3,23,3,42756,767,87,87]\n",
    "otherdict.keys()\n",
    "otherdict.values()\n",
    "print(otherdict['a'])\n"
   ]
  },
  {
   "cell_type": "code",
   "execution_count": 65,
   "metadata": {},
   "outputs": [
    {
     "name": "stdout",
     "output_type": "stream",
     "text": [
      "<class 'type'>\n",
      "pets(name='Tesing', age=34, disturb=5)\n"
     ]
    }
   ],
   "source": [
    "from collections import namedtuple\n",
    "Colors=namedtuple('Colors','red green blue')\n",
    "\n",
    "pets=namedtuple('pets',['name','age','disturb'])\n",
    "print(type(pets))\n",
    "Fluffy=pets('Fluffy',8,5)\n",
    "Fluffy=pets('Tesing',34,5)\n",
    "# Fluffy=goods('Food',40)\n",
    "print(Fluffy)\n"
   ]
  },
  {
   "cell_type": "code",
   "execution_count": 64,
   "metadata": {},
   "outputs": [
    {
     "name": "stdout",
     "output_type": "stream",
     "text": [
      "One_piece(character_name='Luffy', age=24, height='5.5', devil_fruit='Gum Gum Fruit')\n"
     ]
    }
   ],
   "source": [
    "from collections import namedtuple\n",
    "\n",
    "One_piece = namedtuple('One_piece',['character_name','age','height', 'devil_fruit'])\n",
    "test = One_piece('Luffy', 24,'5.5','Gum Gum Fruit')\n",
    "print(test)"
   ]
  },
  {
   "cell_type": "code",
   "execution_count": 69,
   "metadata": {},
   "outputs": [
    {
     "name": "stdout",
     "output_type": "stream",
     "text": [
      "[10]\n",
      "[]\n",
      "10\n",
      "[]\n"
     ]
    }
   ],
   "source": [
    "queue = []\n",
    "lists = [10,20,30,40,50,60]\n",
    "queue.append(lists[0])\n",
    "print(queue)\n",
    "val = queue.pop()\n",
    "print(queue)\n",
    "print(val)\n",
    "print(queue)"
   ]
  },
  {
   "cell_type": "code",
   "execution_count": 3,
   "metadata": {},
   "outputs": [
    {
     "name": "stdout",
     "output_type": "stream",
     "text": [
      "5\n"
     ]
    }
   ],
   "source": [
    "test = [['ONION', '100'], ['BANANA', 'FRIES', '12'], ['ONION', '100'], ['MANGO', '60'], ['BANANA', 'FRIES', '12'], ['MANGO', '60'], ['TOMATO', '80'], ['POTATO', 'CHIPS', '30'], ['POTATO', 'CHIPS', '30'], ['MANGO', '60'], ['POTATO', 'CHIPS', '30'], ['TOMATO', '80'], ['APPLE', 'JUICE', '10'], ['TOMATO', '80'], ['CANDY', '5'], ['POTATO', 'CHIPS', '30'], ['BANANA', 'FRIES', '12'], ['ONION', '100'], ['TOMATO', '80'], ['POTATO', 'CHIPS', '30']]\n",
    "print(len(test[0][0]))"
   ]
  },
  {
   "cell_type": "code",
   "execution_count": 9,
   "metadata": {},
   "outputs": [
    {
     "name": "stdout",
     "output_type": "stream",
     "text": [
      "forrilling\n"
     ]
    }
   ],
   "source": [
    "str1 = \"cade for cade drilling\"\r\n",
    "str2 = \"cade \"\r\n",
    "for i in str2:\r\n",
    "    temp = i\r\n",
    "    for j in str1:\r\n",
    "        if(temp == j):\r\n",
    "           str1 = str1.replace(j,\"\")\r\n",
    "\r\n",
    "print(str1)\r\n"
   ]
  },
  {
   "cell_type": "code",
   "execution_count": 14,
   "metadata": {},
   "outputs": [
    {
     "name": "stdout",
     "output_type": "stream",
     "text": [
      "o for  rilling\n"
     ]
    }
   ],
   "source": [
    "str1 = \"code for cade drilling\"\r\n",
    "str2 = \"cade\"\r\n",
    "strans = \"\"\r\n",
    "count = 0\r\n",
    "for i in str1:\r\n",
    "    count = 0\r\n",
    "    temp = i\r\n",
    "    for j in str2:\r\n",
    "        if(temp == j):\r\n",
    "            count +=1\r\n",
    "    if(count == 0):\r\n",
    "        strans += i\r\n",
    "print(strans)\r\n"
   ]
  },
  {
   "cell_type": "code",
   "execution_count": 16,
   "metadata": {},
   "outputs": [
    {
     "name": "stdout",
     "output_type": "stream",
     "text": [
      "[24, 31, 64, 15, 19, 34]\n"
     ]
    }
   ],
   "source": [
    "arr1 = [24, 31, 64, 15, 19, 34]\r\n",
    "arr2 = [24, 31, 64, 15, 19, 34]\r\n",
    "# arr2 = [64, 12, 32, 24, 342, 12]\r\n",
    "ans = []\r\n",
    "for i in range(len(arr1)):\r\n",
    "    temp = arr1[i]\r\n",
    "    for j in range(len(arr2)):\r\n",
    "        if(temp == arr2[j]):\r\n",
    "            ans.append(temp)\r\n",
    "\r\n",
    "print(ans)"
   ]
  }
 ],
 "metadata": {
  "kernelspec": {
   "display_name": "Python 3",
   "language": "python",
   "name": "python3"
  },
  "language_info": {
   "codemirror_mode": {
    "name": "ipython",
    "version": 3
   },
   "file_extension": ".py",
   "mimetype": "text/x-python",
   "name": "python",
   "nbconvert_exporter": "python",
   "pygments_lexer": "ipython3",
   "version": "3.7.6"
  },
  "orig_nbformat": 2
 },
 "nbformat": 4,
 "nbformat_minor": 2
}