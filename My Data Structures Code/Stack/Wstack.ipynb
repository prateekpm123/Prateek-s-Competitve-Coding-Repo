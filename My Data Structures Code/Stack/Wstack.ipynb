{
 "metadata": {
  "language_info": {
   "codemirror_mode": {
    "name": "ipython",
    "version": 3
   },
   "file_extension": ".py",
   "mimetype": "text/x-python",
   "name": "python",
   "nbconvert_exporter": "python",
   "pygments_lexer": "ipython3",
   "version": "3.8.3-final"
  },
  "orig_nbformat": 2,
  "kernelspec": {
   "name": "python_defaultSpec_1599720341755",
   "display_name": "Python 3.8.3 32-bit"
  }
 },
 "nbformat": 4,
 "nbformat_minor": 2,
 "cells": [
  {
   "cell_type": "code",
   "execution_count": 1,
   "metadata": {
    "tags": []
   },
   "outputs": [
    {
     "output_type": "stream",
     "name": "stdout",
     "text": "asdfa\n"
    }
   ],
   "source": [
    "print(\"asdfa\")"
   ]
  },
  {
   "cell_type": "code",
   "execution_count": 23,
   "metadata": {
    "tags": []
   },
   "outputs": [
    {
     "output_type": "execute_result",
     "data": {
      "text/plain": "')'"
     },
     "metadata": {},
     "execution_count": 23
    }
   ],
   "source": [
    "# a code for STACK Data Structure\n",
    "array = [2.34, 3, 65,3,2]\n",
    "string = ';lasldf;asadsf'\n",
    "strin = ['f','a', 'g','a', ')']\n",
    "def pop(array):\n",
    "    length = len(array)\n",
    "    array.pop()\n",
    "    return array\n",
    "\n",
    "def push(array, num):\n",
    "    length = len(array)\n",
    "    array.append( num)\n",
    "    return array\n",
    "\n",
    "def peek(array):\n",
    "    length = len(array)\n",
    "    return array[length-1]\n",
    "\n",
    "peek(strin)\n",
    "\n",
    "# print(pop(array))\n",
    "# print(push(array,18))\n",
    "# peek(array, )\n",
    "\n",
    "# for i in range(len(array)):\n",
    "#     pop(array)\n",
    "#     peek(array)\n",
    "\n",
    "# for i in range(5):\n",
    "#     push(array,i)\n",
    "#     peek(array)"
   ]
  },
  {
   "cell_type": "code",
   "execution_count": 28,
   "metadata": {
    "tags": []
   },
   "outputs": [
    {
     "output_type": "stream",
     "name": "stdout",
     "text": "['(', ')', '(', '(', ')', ')']\n2\n"
    }
   ],
   "source": [
    "# A QUESTION ON STACK FROM PEPCODING.COM\n",
    "exp = []\n",
    "string = \"(a + b) + ((c + d))\"\n",
    "value = 0\n",
    "count = 0\n",
    "countPlusMinus = 0\n",
    "for i in range(len(string)):\n",
    "    if(ord(string[i]) == 40 or ord(string[i]) == 41):\n",
    "        push(exp, string[i])\n",
    "        value = ord(string[i])\n",
    "        if( value == ord(string[i-1])):\n",
    "            count += 1\n",
    "\n",
    "print(count)\n",
    "if(count > 1):\n",
    "    return true\n",
    "else:\n",
    "    return  \n"
   ]
  },
  {
   "cell_type": "code",
   "execution_count": 47,
   "metadata": {
    "tags": []
   },
   "outputs": [
    {
     "output_type": "stream",
     "name": "stdout",
     "text": "40\n41\n40\n40\n41\n41\n['(', ')', '(', '(', ')', ')']\n1\ntrue\n"
    }
   ],
   "source": [
    "# A QUESTION ON STACK FROM PEPCODING.COM\n",
    "exp = []\n",
    "string = \"(a + b) + ((c + d) - d)\"\n",
    "value = 0\n",
    "count = 0\n",
    "countPlusMinus = 0\n",
    "counter = 0\n",
    "for i in range(len(string)):\n",
    "    if(ord(string[i]) == 40 or ord(string[i]) == 41):\n",
    "        push(exp, string[i])\n",
    "        value = ord(string[i])\n",
    "        if( value == ord(string[i-1])):\n",
    "            count += 1\n",
    "\n",
    "counter = 6\n",
    "for i in range(counter):\n",
    "    print(ord(exp[i]))\n",
    "    counter-=1\n",
    "    # if(ord(exp[i]) == 41):\n",
    "    #     pop(exp)\n",
    "    #     countPlusMinus += 1\n",
    "    # else:\n",
    "    #     pop(exp)\n",
    "    #     countPlusMinus -= 1\n",
    "\n",
    "print(exp)\n",
    "print(count)\n",
    "if(countPlusMinus == 0):\n",
    "    print(\"true\")\n",
    "else:\n",
    "    print(\"false\")\n"
   ]
  },
  {
   "cell_type": "code",
   "execution_count": 26,
   "metadata": {
    "tags": []
   },
   "outputs": [
    {
     "output_type": "stream",
     "name": "stdout",
     "text": "false\n"
    }
   ],
   "source": [
    "# STACK PROBLEM, LOGIC EXPLAINED BY SIR\n",
    "\n",
    "st = []\n",
    "string = \"(a + b) + ((c + d)+s)\"\n",
    "value = 0\n",
    "def pop(array):\n",
    "    length = len(array)\n",
    "    array.pop()\n",
    "    return array\n",
    "\n",
    "def push(array, num):\n",
    "    length = len(array)\n",
    "    array.append( num)\n",
    "    return array\n",
    "\n",
    "def peek(array):\n",
    "    length = len(array)\n",
    "    return array[length-1]\n",
    "def duplicateBrackets(string):\n",
    "    for i in range(len(string)):\n",
    "        ch = string[i]\n",
    "        if(ch == ')'):\n",
    "            if(peek(st) == '('):\n",
    "                print(\"true\")\n",
    "                break\n",
    "            else:\n",
    "                while(peek(st) != '('):\n",
    "                    pop(st)\n",
    "                pop(st)\n",
    "        else:\n",
    "            push(st,ch)\n",
    "    print(\"false\")\n",
    "\n"
   ]
  },
  {
   "cell_type": "code",
   "execution_count": null,
   "metadata": {},
   "outputs": [],
   "source": []
  },
  {
   "cell_type": "code",
   "execution_count": null,
   "metadata": {},
   "outputs": [],
   "source": []
  }
 ]
}